{
 "cells": [
  {
   "cell_type": "code",
   "execution_count": 1,
   "id": "1402e559-7498-466d-97df-e912e607d699",
   "metadata": {},
   "outputs": [],
   "source": [
    "from typing import Annotated, List\n",
    "from typing_extensions import TypedDict\n",
    "from langgraph.graph import StateGraph, END\n",
    "from langgraph.graph.message import add_messages\n",
    "from langchain_core.messages import BaseMessage, HumanMessage\n",
    "from langchain_openai import ChatOpenAI\n",
    "import pandas as pd\n",
    "from io import StringIO\n",
    "import io\n",
    "import contextlib\n",
    "from tkinter import Tk\n",
    "from tkinter.filedialog import askopenfilename\n",
    "import re\n",
    "\n",
    "from dotenv import load_dotenv\n",
    "import os\n",
    "\n",
    "load_dotenv()\n",
    "openai_api_key = os.getenv(\"OPEN_API_KEY\")"
   ]
  },
  {
   "cell_type": "code",
   "execution_count": 2,
   "id": "63284757-65b6-4a7c-95b4-075ab155f029",
   "metadata": {},
   "outputs": [],
   "source": [
    "# --- 상태 정의 ---\n",
    "class AgentState(TypedDict):\n",
    "    messages: Annotated[List[BaseMessage], add_messages]\n",
    "    df: pd.DataFrame\n",
    "    code: str\n",
    "    result: str\n",
    "\n",
    "# --- LLM 설정 ---\n",
    "llm = ChatOpenAI(model=\"gpt-4o\", openai_api_key=openai_api_key)"
   ]
  },
  {
   "cell_type": "code",
   "execution_count": 3,
   "id": "93782896-a445-47a4-9e44-8d77bdff6fd7",
   "metadata": {},
   "outputs": [],
   "source": [
    "# ──── 프롬프트 상수 분리 ──────────────────────────────\n",
    "CODE_PROMPT_TEMPLATE = \"\"\"\n",
    "당신은 데이터 분석용 AI 코드를 생성하는 도우미입니다.\n",
    "아래는 데이터 일부입니다:\n",
    "\n",
    "{df_head}\n",
    "\n",
    "사용자의 요청:\n",
    "\"{question}\"\n",
    "\n",
    "다음 조건에 따라 **순수한 Python 코드만** 작성하세요:\n",
    "- `df`는 이미 존재하는 pandas DataFrame입니다.\n",
    "- 필요한 경우 `matplotlib.pyplot`은 `plt`, `seaborn`은 `sns`로 import 되었다고 가정하세요\n",
    "- **결과는 반드시 print() 함수로 출력하세요. 표현식만 사용하지 말고 출력 결과가 생기도록 하세요.**\n",
    "- **설명, 주석, 출력 없이** Python 코드만 출력하세요.\n",
    "- **반드시 코드 블록 없이** 순수한 코드만 주세요.\n",
    "\"\"\"\n",
    "\n",
    "SUMMARY_PROMPT_TEMPLATE = \"\"\"\n",
    "당신은 데이터 분석 보고서를 요약하는 도우미입니다.\n",
    "\n",
    "사용자의 질문:\n",
    "\\\"{question}\\\"\n",
    "\n",
    "아래는 pandas 코드 실행 결과입니다:\n",
    "\\\"\\\"\\\"\\n{result}\\n\\\"\\\"\\\"\n",
    "\n",
    "이 결과를 바탕으로, **사용자의 질문에 정확하게 수치 기반으로** 응답하세요.\n",
    "- 코드나 설명을 포함하지 마세요.\n",
    "- 예: \\\"Height 컬럼에는 결측치가 1개 있습니다.\\\"\n",
    "- 출력 결과에서 수치를 직접 찾아 간결하게 요약하세요.\n",
    "\"\"\""
   ]
  },
  {
   "cell_type": "code",
   "execution_count": 4,
   "id": "89d8e6b4-1f25-4dc4-b640-34b75f304484",
   "metadata": {},
   "outputs": [],
   "source": [
    "def clean_code(raw_code: str) -> str:\n",
    "    # ``` 또는 ```python 으로 감싼 코드 제거\n",
    "    return re.sub(r\"```(?:python)?|```\", \"\", raw_code).strip()"
   ]
  },
  {
   "cell_type": "code",
   "execution_count": 5,
   "id": "aee6d807-c438-4585-bb54-22f4d01892fc",
   "metadata": {},
   "outputs": [],
   "source": [
    "# ──── 코드 생성 노드 ────────────────────────────────\n",
    "def generate_code(state: AgentState) -> AgentState:\n",
    "    question   = state[\"messages\"][-1].content\n",
    "    df_sample  = state[\"df\"].head().to_csv(index=False)\n",
    "\n",
    "    prompt = CODE_PROMPT_TEMPLATE.format(\n",
    "        df_head=df_sample,\n",
    "        question=question\n",
    "    )\n",
    "\n",
    "    raw_code = llm.invoke(prompt).content\n",
    "    code = clean_code(raw_code)\n",
    "    return {**state, \"code\": code}"
   ]
  },
  {
   "cell_type": "code",
   "execution_count": 6,
   "id": "cd7029b4-7647-4831-9466-0252b9d0c25c",
   "metadata": {},
   "outputs": [],
   "source": [
    "# --- 코드 실행 노드 ---\n",
    "def execute_code(state: AgentState) -> AgentState:\n",
    "    code = state[\"code\"]\n",
    "    df = state[\"df\"]\n",
    "\n",
    "    print(\"\\n📍code\")\n",
    "    print(code)\n",
    "    print()\n",
    "\n",
    "    local_vars = {\n",
    "        \"df\": df,\n",
    "        \"plt\": __import__(\"matplotlib.pyplot\"),\n",
    "        \"sns\": __import__(\"seaborn\")\n",
    "    }\n",
    "\n",
    "    f = io.StringIO()\n",
    "    with contextlib.redirect_stdout(f):  # 🔥 print 결과를 f에 저장\n",
    "        try:\n",
    "            exec(code, {}, local_vars)\n",
    "        except Exception as e:\n",
    "            return {**state, \"result\": f\"❌ 실행 오류: {e}\"}\n",
    "\n",
    "    output = f.getvalue().strip()\n",
    "    print(\"📍output:\")\n",
    "    print(output)\n",
    "    return {**state, \"result\": output}"
   ]
  },
  {
   "cell_type": "code",
   "execution_count": 7,
   "id": "bec0f122-07af-4325-8b0d-0962ac8c4225",
   "metadata": {},
   "outputs": [],
   "source": [
    "# ──── 결과 요약 노드 ────────────────────────────────\n",
    "def summarize_result(state: AgentState) -> AgentState:\n",
    "    question = state[\"messages\"][-1].content\n",
    "    result   = state[\"result\"]\n",
    "\n",
    "    prompt = SUMMARY_PROMPT_TEMPLATE.format(\n",
    "        question=question,\n",
    "        result=result\n",
    "    )\n",
    "\n",
    "    summary = llm.invoke(prompt).content.strip()\n",
    "    return {**state, \"result\": summary}"
   ]
  },
  {
   "cell_type": "code",
   "execution_count": 8,
   "id": "f3bc0197-19a4-4280-9c0b-721e69e3b759",
   "metadata": {},
   "outputs": [],
   "source": [
    "# --- 응답 노드 ---\n",
    "def return_result(state: AgentState) -> AgentState:\n",
    "    print(\"\\n📢 사용자 질문에 대한 답변:\")\n",
    "    print(state[\"result\"])\n",
    "    print()\n",
    "    return state"
   ]
  },
  {
   "cell_type": "code",
   "execution_count": 9,
   "id": "cbaf3ee7-2ef8-4230-9f25-8bb43fe4da0d",
   "metadata": {},
   "outputs": [],
   "source": [
    "# --- 그래프 구성 ---\n",
    "graph = StateGraph(AgentState)\n",
    "graph.set_entry_point(\"generate_code\")\n",
    "\n",
    "graph.add_node(\"generate_code\", generate_code)\n",
    "graph.add_node(\"execute_code\", execute_code)\n",
    "graph.add_node(\"summarize_result\", summarize_result)\n",
    "graph.add_node(\"return_result\", return_result)\n",
    "\n",
    "graph.add_edge(\"generate_code\", \"execute_code\")\n",
    "graph.add_edge(\"execute_code\", \"summarize_result\")\n",
    "graph.add_edge(\"summarize_result\", \"return_result\")\n",
    "graph.add_edge(\"return_result\", END)\n",
    "agent = graph.compile()"
   ]
  },
  {
   "cell_type": "code",
   "execution_count": 10,
   "id": "65b26f56-362a-4388-88d7-14026f67e553",
   "metadata": {},
   "outputs": [
    {
     "name": "stdout",
     "output_type": "stream",
     "text": [
      "📊 CSV 분석 에이전트 실행\n"
     ]
    },
    {
     "name": "stdin",
     "output_type": "stream",
     "text": [
      "📂 파일 경로 입력 (예: sample.csv):  CB_BM.csv\n",
      "❓ 질문을 입력하세요 (종료하려면 'exit'):  각 컬럼의 상관관계 히트맵 그려줘\n"
     ]
    },
    {
     "name": "stdout",
     "output_type": "stream",
     "text": [
      "\n",
      "📍code\n",
      "import pandas as pd\n",
      "import numpy as np\n",
      "import seaborn as sns\n",
      "import matplotlib.pyplot as plt\n",
      "\n",
      "df.replace(' ', np.nan, inplace=True)\n",
      "df.dropna(axis=1, how='all', inplace=True)\n",
      "df.iloc[:, 6:] = df.iloc[:, 6:].apply(pd.to_numeric, errors='coerce')\n",
      "\n",
      "corr = df.corr()\n",
      "sns.heatmap(corr, annot=True, cmap='coolwarm')\n",
      "plt.show()\n",
      "print(corr)\n",
      "\n"
     ]
    },
    {
     "name": "stderr",
     "output_type": "stream",
     "text": [
      "<string>:6: FutureWarning: Downcasting behavior in `replace` is deprecated and will be removed in a future version. To retain the old behavior, explicitly call `result.infer_objects(copy=False)`. To opt-in to the future behavior, set `pd.set_option('future.no_silent_downcasting', True)`\n"
     ]
    },
    {
     "name": "stdout",
     "output_type": "stream",
     "text": [
      "\n",
      "📢 사용자 질문에 대한 답변:\n",
      "데이터셋에 날짜 형식의 문자열이 포함되어 있어 상관관계 계산을 수행할 수 없습니다.\n",
      "\n"
     ]
    },
    {
     "name": "stdin",
     "output_type": "stream",
     "text": [
      "❓ 질문을 입력하세요 (종료하려면 'exit'):  S1 S2 S3 S4 컬럼의 상관관계 히트맵 그려줘. 우측의 값 범주가 어떤 것인지 추가해서 plot (ex correlation) 해줘\n"
     ]
    },
    {
     "data": {
      "image/png": "[encoded data removed]",
      "text/plain": [
       "<Figure size 640x480 with 2 Axes>"
      ]
     },
     "metadata": {},
     "output_type": "display_data"
    },
    {
     "name": "stdout",
     "output_type": "stream",
     "text": [
      "\n",
      "📍code\n",
      "import seaborn as sns\n",
      "import matplotlib.pyplot as plt\n",
      "\n",
      "correlation_matrix = df[['S1', 'S2', 'S3', 'S4']].corr()\n",
      "sns.heatmap(correlation_matrix, annot=True, cmap='coolwarm', cbar_kws={'label': 'Correlation'})\n",
      "plt.show()\n",
      "print(correlation_matrix)\n",
      "\n",
      "📍output:\n",
      "S1        S2        S3        S4\n",
      "S1  1.000000 -0.016883  0.930266 -0.010055\n",
      "S2 -0.016883  1.000000  0.055145  0.408520\n",
      "S3  0.930266  0.055145  1.000000  0.030351\n",
      "S4 -0.010055  0.408520  0.030351  1.000000\n",
      "\n",
      "📢 사용자 질문에 대한 답변:\n",
      "- S1과 S2의 상관관계는 -0.016883입니다.\n",
      "- S1과 S3의 상관관계는 0.930266입니다.\n",
      "- S1과 S4의 상관관계는 -0.010055입니다.\n",
      "- S2와 S3의 상관관계는 0.055145입니다.\n",
      "- S2와 S4의 상관관계는 0.408520입니다.\n",
      "- S3과 S4의 상관관계는 0.030351입니다.\n",
      "\n"
     ]
    },
    {
     "name": "stdin",
     "output_type": "stream",
     "text": [
      "❓ 질문을 입력하세요 (종료하려면 'exit'):  exit\n"
     ]
    },
    {
     "name": "stdout",
     "output_type": "stream",
     "text": [
      "👋 종료합니다.\n"
     ]
    }
   ],
   "source": [
    "# --- 실행 예시 ---\n",
    "if __name__ == \"__main__\":\n",
    "    print(\"📊 CSV 분석 에이전트 실행\")\n",
    "    csv_path = input(\"📂 파일 경로 입력 (예: sample.csv): \").strip()\n",
    "\n",
    "    try:\n",
    "        df = pd.read_csv(csv_path)\n",
    "    except Exception as e:\n",
    "        print(f\"❌ CSV 불러오기 실패: {e}\")\n",
    "        exit(1)\n",
    "\n",
    "    messages = []\n",
    "\n",
    "    while True:\n",
    "        question = input(\"❓ 질문을 입력하세요 (종료하려면 'exit'): \").strip()\n",
    "        if question.lower() in {\"exit\", \"종료\", \"quit\"}:\n",
    "            print(\"👋 종료합니다.\")\n",
    "            break\n",
    "\n",
    "        messages.append(HumanMessage(content=question))\n",
    "\n",
    "        inputs = {\n",
    "            \"messages\": messages,\n",
    "            \"df\": df,\n",
    "            \"code\": \"\",\n",
    "            \"result\": \"\"\n",
    "        }\n",
    "\n",
    "        result_state = agent.invoke(inputs)\n",
    "        # 최신 응답을 메시지로 추가\n",
    "        messages.append(BaseMessage(content=result_state[\"result\"], type=\"ai\"))"
   ]
  },
  {
   "cell_type": "code",
   "execution_count": 4,
   "id": "2368aa6d-3817-4cf6-a90c-69ba0a310931",
   "metadata": {
    "collapsed": true,
    "jupyter": {
     "outputs_hidden": true
    }
   },
   "outputs": [
    {
     "data": {
      "image/png": "[encoded data removed]",
      "text/plain": [
       "<IPython.core.display.Image object>"
      ]
     },
     "metadata": {},
     "output_type": "display_data"
    }
   ],
   "source": [
    "# 그래프 이미지화 코드\n",
    "from IPython.display import Image, display\n",
    "\n",
    "display(Image(agent.get_graph().draw_mermaid_png()))"
   ]
  }
 ],
 "metadata": {
  "kernelspec": {
   "display_name": "Python 3 (ipykernel)",
   "language": "python",
   "name": "python3"
  },
  "language_info": {
   "codemirror_mode": {
    "name": "ipython",
    "version": 3
   },
   "file_extension": ".py",
   "mimetype": "text/x-python",
   "name": "python",
   "nbconvert_exporter": "python",
   "pygments_lexer": "ipython3",
   "version": "3.13.2"
  }
 },
 "nbformat": 4,
 "nbformat_minor": 5
}
